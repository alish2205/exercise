{
 "cells": [
  {
   "cell_type": "code",
   "execution_count": 1,
   "id": "d20d3df6-43eb-45f0-afed-1dd76a1c7ffb",
   "metadata": {},
   "outputs": [],
   "source": [
    "import numpy\n"
   ]
  },
  {
   "cell_type": "code",
   "execution_count": 8,
   "id": "188766da-d059-4b95-ac61-ee0eec1de752",
   "metadata": {},
   "outputs": [],
   "source": [
    "import numpy as np"
   ]
  },
  {
   "cell_type": "code",
   "execution_count": 10,
   "id": "84a099d8-e8dc-4254-969d-16e43cd0bec9",
   "metadata": {},
   "outputs": [
    {
     "data": {
      "text/plain": [
       "\u001b[1;31mType:\u001b[0m        module\n",
       "\u001b[1;31mString form:\u001b[0m <module 'numpy' from 'C:\\\\Users\\\\User\\\\miniconda3\\\\lib\\\\site-packages\\\\numpy\\\\__init__.py'>\n",
       "\u001b[1;31mFile:\u001b[0m        c:\\users\\user\\miniconda3\\lib\\site-packages\\numpy\\__init__.py\n",
       "\u001b[1;31mDocstring:\u001b[0m  \n",
       "NumPy\n",
       "=====\n",
       "\n",
       "Provides\n",
       "  1. An array object of arbitrary homogeneous items\n",
       "  2. Fast mathematical operations over arrays\n",
       "  3. Linear Algebra, Fourier Transforms, Random Number Generation\n",
       "\n",
       "How to use the documentation\n",
       "----------------------------\n",
       "Documentation is available in two forms: docstrings provided\n",
       "with the code, and a loose standing reference guide, available from\n",
       "`the NumPy homepage <https://www.scipy.org>`_.\n",
       "\n",
       "We recommend exploring the docstrings using\n",
       "`IPython <https://ipython.org>`_, an advanced Python shell with\n",
       "TAB-completion and introspection capabilities.  See below for further\n",
       "instructions.\n",
       "\n",
       "The docstring examples assume that `numpy` has been imported as `np`::\n",
       "\n",
       "  >>> import numpy as np\n",
       "\n",
       "Code snippets are indicated by three greater-than signs::\n",
       "\n",
       "  >>> x = 42\n",
       "  >>> x = x + 1\n",
       "\n",
       "Use the built-in ``help`` function to view a function's docstring::\n",
       "\n",
       "  >>> help(np.sort)\n",
       "  ... # doctest: +SKIP\n",
       "\n",
       "For some objects, ``np.info(obj)`` may provide additional help.  This is\n",
       "particularly true if you see the line \"Help on ufunc object:\" at the top\n",
       "of the help() page.  Ufuncs are implemented in C, not Python, for speed.\n",
       "The native Python help() does not know how to view their help, but our\n",
       "np.info() function does.\n",
       "\n",
       "To search for documents containing a keyword, do::\n",
       "\n",
       "  >>> np.lookfor('keyword')\n",
       "  ... # doctest: +SKIP\n",
       "\n",
       "General-purpose documents like a glossary and help on the basic concepts\n",
       "of numpy are available under the ``doc`` sub-module::\n",
       "\n",
       "  >>> from numpy import doc\n",
       "  >>> help(doc)\n",
       "  ... # doctest: +SKIP\n",
       "\n",
       "Available subpackages\n",
       "---------------------\n",
       "doc\n",
       "    Topical documentation on broadcasting, indexing, etc.\n",
       "lib\n",
       "    Basic functions used by several sub-packages.\n",
       "random\n",
       "    Core Random Tools\n",
       "linalg\n",
       "    Core Linear Algebra Tools\n",
       "fft\n",
       "    Core FFT routines\n",
       "polynomial\n",
       "    Polynomial tools\n",
       "testing\n",
       "    NumPy testing tools\n",
       "f2py\n",
       "    Fortran to Python Interface Generator.\n",
       "distutils\n",
       "    Enhancements to distutils with support for\n",
       "    Fortran compilers support and more.\n",
       "\n",
       "Utilities\n",
       "---------\n",
       "test\n",
       "    Run numpy unittests\n",
       "show_config\n",
       "    Show numpy build configuration\n",
       "dual\n",
       "    Overwrite certain functions with high-performance SciPy tools.\n",
       "    Note: `numpy.dual` is deprecated.  Use the functions from NumPy or Scipy\n",
       "    directly instead of importing them from `numpy.dual`.\n",
       "matlib\n",
       "    Make everything matrices.\n",
       "__version__\n",
       "    NumPy version string\n",
       "\n",
       "Viewing documentation using IPython\n",
       "-----------------------------------\n",
       "Start IPython with the NumPy profile (``ipython -p numpy``), which will\n",
       "import `numpy` under the alias `np`.  Then, use the ``cpaste`` command to\n",
       "paste examples into the shell.  To see which functions are available in\n",
       "`numpy`, type ``np.<TAB>`` (where ``<TAB>`` refers to the TAB key), or use\n",
       "``np.*cos*?<ENTER>`` (where ``<ENTER>`` refers to the ENTER key) to narrow\n",
       "down the list.  To view the docstring for a function, use\n",
       "``np.cos?<ENTER>`` (to view the docstring) and ``np.cos??<ENTER>`` (to view\n",
       "the source code).\n",
       "\n",
       "Copies vs. in-place operation\n",
       "-----------------------------\n",
       "Most of the functions in `numpy` return a copy of the array argument\n",
       "(e.g., `np.sort`).  In-place versions of these functions are often\n",
       "available as array methods, i.e. ``x = np.array([1,2,3]); x.sort()``.\n",
       "Exceptions to this rule are documented.\n"
      ]
     },
     "metadata": {},
     "output_type": "display_data"
    }
   ],
   "source": [
    "np?"
   ]
  },
  {
   "cell_type": "code",
   "execution_count": 15,
   "id": "2e7d4f2d-ea32-4f9d-904b-9fb10e0753c0",
   "metadata": {},
   "outputs": [
    {
     "data": {
      "text/plain": [
       "array([0, 0, 0, 0, 0, 0, 0, 0, 0, 0])"
      ]
     },
     "execution_count": 15,
     "metadata": {},
     "output_type": "execute_result"
    }
   ],
   "source": [
    "np.zeros(10, dtype =int)"
   ]
  },
  {
   "cell_type": "code",
   "execution_count": 31,
   "id": "7232c762-fd06-4849-bc2b-502d8be7f780",
   "metadata": {},
   "outputs": [
    {
     "data": {
      "text/plain": [
       "array([[[1., 1., 1., 1., 1.],\n",
       "        [1., 1., 1., 1., 1.],\n",
       "        [1., 1., 1., 1., 1.]],\n",
       "\n",
       "       [[1., 1., 1., 1., 1.],\n",
       "        [1., 1., 1., 1., 1.],\n",
       "        [1., 1., 1., 1., 1.]],\n",
       "\n",
       "       [[1., 1., 1., 1., 1.],\n",
       "        [1., 1., 1., 1., 1.],\n",
       "        [1., 1., 1., 1., 1.]]])"
      ]
     },
     "execution_count": 31,
     "metadata": {},
     "output_type": "execute_result"
    }
   ],
   "source": [
    "np.ones((3, 3, 5), dtype=float)"
   ]
  },
  {
   "cell_type": "code",
   "execution_count": 27,
   "id": "d3925893-c6eb-4c51-9ed4-f1bf847d4ecc",
   "metadata": {},
   "outputs": [
    {
     "data": {
      "text/plain": [
       "array([[55, 55, 55, 55, 55, 55, 55],\n",
       "       [55, 55, 55, 55, 55, 55, 55],\n",
       "       [55, 55, 55, 55, 55, 55, 55],\n",
       "       [55, 55, 55, 55, 55, 55, 55]])"
      ]
     },
     "execution_count": 27,
     "metadata": {},
     "output_type": "execute_result"
    }
   ],
   "source": [
    "np.full((4,7), 55)"
   ]
  },
  {
   "cell_type": "code",
   "execution_count": 37,
   "id": "5f89948b-5365-4b3a-8bc1-1c15e180104f",
   "metadata": {},
   "outputs": [
    {
     "data": {
      "text/plain": [
       "array([ 2,  7, 12, 17, 22, 27])"
      ]
     },
     "execution_count": 37,
     "metadata": {},
     "output_type": "execute_result"
    }
   ],
   "source": [
    "np.arange( (2), 30, 5)"
   ]
  },
  {
   "cell_type": "code",
   "execution_count": 45,
   "id": "ed1f80d1-4ba4-43c0-8e37-7e36a7840c77",
   "metadata": {},
   "outputs": [
    {
     "data": {
      "text/plain": [
       "array([0.93576074, 0.32326514, 0.6773777 , 0.41110099, 0.02570753])"
      ]
     },
     "execution_count": 45,
     "metadata": {},
     "output_type": "execute_result"
    }
   ],
   "source": [
    "np.random.random(5)"
   ]
  },
  {
   "cell_type": "code",
   "execution_count": 51,
   "id": "d3916544-ff86-4c51-823c-b85a64b01d54",
   "metadata": {},
   "outputs": [
    {
     "data": {
      "text/plain": [
       "array([18.67983176, 12.56038764, 21.38229499, 22.82456705, 10.49006409,\n",
       "       13.14107001,  5.99047572,  9.25697203, 12.11997355,  7.99079483,\n",
       "        6.80209493,  6.45274901,  6.8365342 , 19.56849785,  5.05963507,\n",
       "        8.3615664 ,  0.85698617,  2.82057391, 10.12506648,  8.43202679,\n",
       "        8.39083604,  9.22383671,  5.38018864,  7.31016413,  5.46517622,\n",
       "       -1.69570084,  5.18326748, 10.60046554,  7.38417681, 12.71579879,\n",
       "       11.5652589 , 10.0939278 ,  3.72694568, 10.71712912, 11.64929306,\n",
       "       12.48413533,  9.94966126,  9.69049577,  0.63470945, 15.17787003,\n",
       "        7.60189952,  5.52520468,  2.10189476,  6.00773034,  7.45431988,\n",
       "       24.26517988, 13.73216012, 12.48115442,  2.08459963, 15.4974167 ,\n",
       "       13.80821789, 11.65510782, 10.09676207, 10.80567646,  3.61206648,\n",
       "       14.90611162,  3.03433629, 12.26567781, 10.27124906, 15.17325818,\n",
       "       -0.59957197,  5.67031627,  9.10772863, 16.438407  ,  3.80018099,\n",
       "        8.87132446,  8.39966848,  7.70138233,  5.18128384,  7.81791547,\n",
       "        6.05063176,  6.17210255, 13.41270617,  6.2537919 , 14.09586144,\n",
       "       16.56822887, 17.6365352 ,  4.21459395,  2.67906228,  5.52205809,\n",
       "        7.95450248,  0.98164972, -1.69607077,  9.30537639,  0.31568553,\n",
       "       10.62704882, 13.77873262,  7.7306511 , 14.92566054, 15.52328876,\n",
       "        7.73220057, 14.36653641,  6.73991894, 18.73263963,  3.27626237,\n",
       "        8.58195404,  3.89095931, 15.35374153,  5.98074192,  3.72687751,\n",
       "       16.8290179 ,  9.37135134, 17.0076844 , -4.51086352,  3.40957501,\n",
       "       12.82402468, 23.88717506,  3.34065811,  8.90040777, 14.65297628,\n",
       "        7.48495106, 15.24875396, 12.35528614,  8.30838584, 12.00517832,\n",
       "        4.7673492 ,  3.82936927,  8.83877765, 15.72941758,  7.34983707])"
      ]
     },
     "execution_count": 51,
     "metadata": {},
     "output_type": "execute_result"
    }
   ],
   "source": [
    "np.random.normal(10, 5, 120)"
   ]
  },
  {
   "cell_type": "code",
   "execution_count": 54,
   "id": "9214b705-2770-4f60-aaa3-f47ee38b3c50",
   "metadata": {},
   "outputs": [
    {
     "data": {
      "text/plain": [
       "5"
      ]
     },
     "execution_count": 54,
     "metadata": {},
     "output_type": "execute_result"
    }
   ],
   "source": [
    "np.random.randint(2, 11)"
   ]
  },
  {
   "cell_type": "code",
   "execution_count": 56,
   "id": "e3097119-a6f2-408a-a84f-9c241f61e824",
   "metadata": {},
   "outputs": [
    {
     "data": {
      "text/plain": [
       "array([0., 0., 0., 0., 0., 0., 0., 0., 0., 0., 0., 0., 0., 0., 0., 0., 0.,\n",
       "       0., 0., 0., 0., 0., 0., 0., 0., 0., 0., 0., 0., 0., 0., 0., 0., 0.,\n",
       "       0., 0., 0., 0., 0., 0., 0., 0., 0., 0., 0., 0., 0., 0., 0., 0.])"
      ]
     },
     "execution_count": 56,
     "metadata": {},
     "output_type": "execute_result"
    }
   ],
   "source": [
    "np.zeros(50)"
   ]
  },
  {
   "cell_type": "code",
   "execution_count": 57,
   "id": "a76cc683-7fe6-4ac2-bafa-f6907f65918a",
   "metadata": {},
   "outputs": [
    {
     "data": {
      "text/plain": [
       "array([[1, 1, 1, 1, 1],\n",
       "       [1, 1, 1, 1, 1]])"
      ]
     },
     "execution_count": 57,
     "metadata": {},
     "output_type": "execute_result"
    }
   ],
   "source": [
    "np.ones((2,5), dtype=int)"
   ]
  },
  {
   "cell_type": "code",
   "execution_count": 58,
   "id": "f63feafb-8ee8-4390-9b13-8c22fdad5a22",
   "metadata": {},
   "outputs": [
    {
     "data": {
      "text/plain": [
       "array([[12.34, 12.34, 12.34],\n",
       "       [12.34, 12.34, 12.34],\n",
       "       [12.34, 12.34, 12.34]])"
      ]
     },
     "execution_count": 58,
     "metadata": {},
     "output_type": "execute_result"
    }
   ],
   "source": [
    "np.full((3,3), 12.34)"
   ]
  },
  {
   "cell_type": "code",
   "execution_count": 63,
   "id": "f66ca6a6-9bbc-4030-b181-1f60c51af157",
   "metadata": {},
   "outputs": [
    {
     "data": {
      "text/plain": [
       "array([2, 4, 6, 8])"
      ]
     },
     "execution_count": 63,
     "metadata": {},
     "output_type": "execute_result"
    }
   ],
   "source": [
    "np.arange(2,9,2)"
   ]
  },
  {
   "cell_type": "code",
   "execution_count": 64,
   "id": "a6fa9fcb-9b97-4599-9a1b-9ffeb9c0b239",
   "metadata": {},
   "outputs": [
    {
     "data": {
      "text/plain": [
       "array([ 6, 10, 14, 18, 22, 26, 30, 34, 38, 42])"
      ]
     },
     "execution_count": 64,
     "metadata": {},
     "output_type": "execute_result"
    }
   ],
   "source": [
    "np.arange(6, 43, 4)"
   ]
  },
  {
   "cell_type": "code",
   "execution_count": 66,
   "id": "ed058a3e-7481-4052-9bd9-b1239730c37d",
   "metadata": {},
   "outputs": [
    {
     "data": {
      "text/plain": [
       "array([  0.        ,   4.16666667,   8.33333333,  12.5       ,\n",
       "        16.66666667,  20.83333333,  25.        ,  29.16666667,\n",
       "        33.33333333,  37.5       ,  41.66666667,  45.83333333,\n",
       "        50.        ,  54.16666667,  58.33333333,  62.5       ,\n",
       "        66.66666667,  70.83333333,  75.        ,  79.16666667,\n",
       "        83.33333333,  87.5       ,  91.66666667,  95.83333333,\n",
       "       100.        ])"
      ]
     },
     "execution_count": 66,
     "metadata": {},
     "output_type": "execute_result"
    }
   ],
   "source": [
    "np.linspace(0, 100, num=25)"
   ]
  },
  {
   "cell_type": "code",
   "execution_count": 77,
   "id": "c5c2c7b8-2eb2-46b5-8a5a-7d74a2733e74",
   "metadata": {},
   "outputs": [
    {
     "data": {
      "text/plain": [
       "array([0.16060131, 0.52016796, 0.3575166 , 0.75644122, 0.08228826,\n",
       "       0.18011925, 0.95881404, 0.0074109 , 0.65536674, 0.68842102])"
      ]
     },
     "execution_count": 77,
     "metadata": {},
     "output_type": "execute_result"
    }
   ],
   "source": [
    "np.random.random( 10)"
   ]
  },
  {
   "cell_type": "code",
   "execution_count": 97,
   "id": "f86a5b7f-c7ca-4c4f-8c8f-01fbf907e551",
   "metadata": {},
   "outputs": [
    {
     "data": {
      "text/plain": [
       "array([-2.21526096, -1.16778891,  0.32419173,  1.05599165, -1.6421707 ,\n",
       "       -0.37955449, -2.90007507,  1.117161  , -0.12562996,  2.35013543,\n",
       "       -0.65708228, -0.25036836, -0.30728277,  0.46275374,  0.25876734,\n",
       "       -0.72323275,  2.26565796, -0.74880666, -0.48216776, -1.87376426])"
      ]
     },
     "execution_count": 97,
     "metadata": {},
     "output_type": "execute_result"
    }
   ],
   "source": [
    "np.random.normal(0, 1, 20)"
   ]
  },
  {
   "cell_type": "code",
   "execution_count": null,
   "id": "96c35fc6-d9d1-460a-8fdd-a49a0a0d3e53",
   "metadata": {},
   "outputs": [],
   "source": []
  }
 ],
 "metadata": {
  "kernelspec": {
   "display_name": "Python 3 (ipykernel)",
   "language": "python",
   "name": "python3"
  },
  "language_info": {
   "codemirror_mode": {
    "name": "ipython",
    "version": 3
   },
   "file_extension": ".py",
   "mimetype": "text/x-python",
   "name": "python",
   "nbconvert_exporter": "python",
   "pygments_lexer": "ipython3",
   "version": "3.9.5"
  }
 },
 "nbformat": 4,
 "nbformat_minor": 5
}
