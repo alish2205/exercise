{
 "cells": [
  {
   "cell_type": "markdown",
   "id": "be4efbfa-c72e-4e38-a287-1f0ca7568cf8",
   "metadata": {},
   "source": [
    "# Spaghetti alla Carbonara"
   ]
  },
  {
   "cell_type": "markdown",
   "id": "16530293-3b24-4477-860c-095f2d4ce47f",
   "metadata": {},
   "source": [
    ">Tutto muore ma tu sei la cosa più cara che io ho "
   ]
  },
  {
   "cell_type": "markdown",
   "id": "916eac1c-b029-4381-8833-a8fa5cc7ae88",
   "metadata": {},
   "source": [
    "***il ricetto tradizionale***"
   ]
  },
  {
   "cell_type": "markdown",
   "id": "43251b03-69c0-4685-9301-d4464c6bd618",
   "metadata": {
    "tags": []
   },
   "source": [
    "- *Prep time: 20 min*"
   ]
  },
  {
   "cell_type": "markdown",
   "id": "b37297d9-dcfc-4c76-95fb-c563de04d5d8",
   "metadata": {},
   "source": [
    "- *Cook time: 10 min*"
   ]
  },
  {
   "cell_type": "markdown",
   "id": "a008052b-d109-4b6e-9186-f84e72f454fe",
   "metadata": {
    "tags": []
   },
   "source": [
    "_______________________________"
   ]
  },
  {
   "cell_type": "markdown",
   "id": "6e0fa6ed-5226-4caf-973d-7cb341200d99",
   "metadata": {
    "tags": []
   },
   "source": [
    "Ingredienti per:"
   ]
  },
  {
   "cell_type": "code",
   "execution_count": 56,
   "id": "d5941bb0-0543-45ef-b9d6-0936b0d98b7b",
   "metadata": {
    "jupyter": {
     "source_hidden": true
    },
    "tags": []
   },
   "outputs": [],
   "source": [
    "n=4"
   ]
  },
  {
   "cell_type": "code",
   "execution_count": 57,
   "id": "99b555f5-8017-460e-b277-0c1f90c519f9",
   "metadata": {
    "jupyter": {
     "source_hidden": true
    },
    "tags": []
   },
   "outputs": [
    {
     "name": "stdout",
     "output_type": "stream",
     "text": [
      "Numero Uova 4\n"
     ]
    }
   ],
   "source": [
    "uova = 1*n\n",
    "print (\"Numero Uova\", uova)"
   ]
  },
  {
   "cell_type": "code",
   "execution_count": 58,
   "id": "a0b01b5a-8677-4b0c-af64-acf4c9ba8ee5",
   "metadata": {
    "jupyter": {
     "source_hidden": true
    },
    "tags": []
   },
   "outputs": [
    {
     "name": "stdout",
     "output_type": "stream",
     "text": [
      "Quantita dei spaghetti 350.0\n"
     ]
    }
   ],
   "source": [
    "spaghetti = 87.5*n\n",
    "print (\"Quantita dei spaghetti\", spaghetti)"
   ]
  },
  {
   "cell_type": "code",
   "execution_count": 59,
   "id": "95730bda-2ae4-4fdf-8343-3c58747f30b7",
   "metadata": {
    "jupyter": {
     "source_hidden": true
    },
    "tags": []
   },
   "outputs": [
    {
     "name": "stdout",
     "output_type": "stream",
     "text": [
      "Quantita dei guanciali 200\n"
     ]
    }
   ],
   "source": [
    "guanciale = 50*n\n",
    "print (\"Quantita dei guanciali\", guanciale)"
   ]
  },
  {
   "cell_type": "code",
   "execution_count": 60,
   "id": "e6807c71-4002-4b4f-be76-6268f8379cc0",
   "metadata": {
    "jupyter": {
     "source_hidden": true
    },
    "tags": []
   },
   "outputs": [
    {
     "name": "stdout",
     "output_type": "stream",
     "text": [
      "Quiantita del pecorino romano cheese 100\n"
     ]
    }
   ],
   "source": [
    "pecorino = 25*n\n",
    "print (\"Quiantita del pecorino romano cheese\", pecorino)"
   ]
  },
  {
   "cell_type": "code",
   "execution_count": 85,
   "id": "8f792101-4520-40a5-8da2-ffe3abf39ff2",
   "metadata": {
    "jupyter": {
     "source_hidden": true
    }
   },
   "outputs": [
    {
     "name": "stderr",
     "output_type": "stream",
     "text": [
      "‘ЁбвҐ¬Ґ ­Ґ г¤ Ґвбп ­ ©вЁ гЄ § ­­л© Їгвм.\n"
     ]
    }
   ],
   "source": [
    "!(/Downloads/tux.png)"
   ]
  },
  {
   "cell_type": "code",
   "execution_count": null,
   "id": "90162fa0-5127-4294-9039-f85c960453ff",
   "metadata": {
    "jupyter": {
     "source_hidden": true
    },
    "tags": []
   },
   "outputs": [],
   "source": []
  }
 ],
 "metadata": {
  "kernelspec": {
   "display_name": "Python 3 (ipykernel)",
   "language": "python",
   "name": "python3"
  },
  "language_info": {
   "codemirror_mode": {
    "name": "ipython",
    "version": 3
   },
   "file_extension": ".py",
   "mimetype": "text/x-python",
   "name": "python",
   "nbconvert_exporter": "python",
   "pygments_lexer": "ipython3",
   "version": "3.9.5"
  }
 },
 "nbformat": 4,
 "nbformat_minor": 5
}
